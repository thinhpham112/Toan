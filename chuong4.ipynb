{
  "nbformat": 4,
  "nbformat_minor": 0,
  "metadata": {
    "colab": {
      "name": "chuong4.ipynb",
      "provenance": [],
      "authorship_tag": "ABX9TyNFmWO7Rwix0OVes6/A9bwF",
      "include_colab_link": true
    },
    "kernelspec": {
      "name": "python3",
      "display_name": "Python 3"
    },
    "language_info": {
      "name": "python"
    }
  },
  "cells": [
    {
      "cell_type": "markdown",
      "metadata": {
        "id": "view-in-github",
        "colab_type": "text"
      },
      "source": [
        "<a href=\"https://colab.research.google.com/github/thinhpham112/Toan/blob/main/chuong4.ipynb\" target=\"_parent\"><img src=\"https://colab.research.google.com/assets/colab-badge.svg\" alt=\"Open In Colab\"/></a>"
      ]
    },
    {
      "cell_type": "markdown",
      "source": [
        ""
      ],
      "metadata": {
        "id": "WbVW4UW3eQNa"
      }
    },
    {
      "cell_type": "markdown",
      "source": [
        "2. Sử dụng thư viện itertools với các phép toán hỗ trợ xử lý về tổ hợp"
      ],
      "metadata": {
        "id": "9bR8pk7Tem6Y"
      }
    },
    {
      "cell_type": "code",
      "source": [
        "import itertools\n",
        "for i in itertools.accumulate([1,2,3,4,5,6,7,8,9,10]):\n",
        "  print(i)"
      ],
      "metadata": {
        "colab": {
          "base_uri": "https://localhost:8080/"
        },
        "id": "12oYobd3iqUu",
        "outputId": "d67fb1a2-7389-4700-e5bc-788ff5c65375"
      },
      "execution_count": 6,
      "outputs": [
        {
          "output_type": "stream",
          "name": "stdout",
          "text": [
            "1\n",
            "3\n",
            "6\n",
            "10\n",
            "15\n",
            "21\n",
            "28\n",
            "36\n",
            "45\n",
            "55\n"
          ]
        }
      ]
    },
    {
      "cell_type": "code",
      "source": [
        "for i in itertools.repeat('Red', 3):\n",
        " print (i) "
      ],
      "metadata": {
        "colab": {
          "base_uri": "https://localhost:8080/"
        },
        "id": "cArWjBpqjoqW",
        "outputId": "c2f273af-830b-44ee-dc17-ceabead48768"
      },
      "execution_count": 7,
      "outputs": [
        {
          "output_type": "stream",
          "name": "stdout",
          "text": [
            "Red\n",
            "Red\n",
            "Red\n"
          ]
        }
      ]
    },
    {
      "cell_type": "code",
      "source": [
        "for i in ((i, j) for i in [1, 2] for j in [6, 7, 8, 9]):\n",
        "  print(i)\n"
      ],
      "metadata": {
        "colab": {
          "base_uri": "https://localhost:8080/"
        },
        "id": "wT_I_EcpjsE2",
        "outputId": "0c17f8b6-573d-425f-9b4c-dcf33704a1e4"
      },
      "execution_count": 8,
      "outputs": [
        {
          "output_type": "stream",
          "name": "stdout",
          "text": [
            "(1, 6)\n",
            "(1, 7)\n",
            "(1, 8)\n",
            "(1, 9)\n",
            "(2, 6)\n",
            "(2, 7)\n",
            "(2, 8)\n",
            "(2, 9)\n"
          ]
        }
      ]
    },
    {
      "cell_type": "code",
      "source": [
        "import itertools\n",
        "for i in itertools.product('AB', 'C', 'DEF'):\n",
        "  print(i)"
      ],
      "metadata": {
        "colab": {
          "base_uri": "https://localhost:8080/"
        },
        "id": "JkD1UZvsj-CH",
        "outputId": "df87ca4c-8521-44fd-f4c7-8ca357077f64"
      },
      "execution_count": 9,
      "outputs": [
        {
          "output_type": "stream",
          "name": "stdout",
          "text": [
            "('A', 'C', 'D')\n",
            "('A', 'C', 'E')\n",
            "('A', 'C', 'F')\n",
            "('B', 'C', 'D')\n",
            "('B', 'C', 'E')\n",
            "('B', 'C', 'F')\n"
          ]
        }
      ]
    },
    {
      "cell_type": "code",
      "source": [
        "import itertools\n",
        "for i in itertools.product('24', 'IT', repeat = 2):\n",
        " print(i) "
      ],
      "metadata": {
        "colab": {
          "base_uri": "https://localhost:8080/"
        },
        "id": "b5jPM7HvkR-l",
        "outputId": "2d7304b0-f3a8-4242-cd5d-c50bc61a4b4c"
      },
      "execution_count": 14,
      "outputs": [
        {
          "output_type": "stream",
          "name": "stdout",
          "text": [
            "('2', 'I', '2', 'I')\n",
            "('2', 'I', '2', 'T')\n",
            "('2', 'I', '4', 'I')\n",
            "('2', 'I', '4', 'T')\n",
            "('2', 'T', '2', 'I')\n",
            "('2', 'T', '2', 'T')\n",
            "('2', 'T', '4', 'I')\n",
            "('2', 'T', '4', 'T')\n",
            "('4', 'I', '2', 'I')\n",
            "('4', 'I', '2', 'T')\n",
            "('4', 'I', '4', 'I')\n",
            "('4', 'I', '4', 'T')\n",
            "('4', 'T', '2', 'I')\n",
            "('4', 'T', '2', 'T')\n",
            "('4', 'T', '4', 'I')\n",
            "('4', 'T', '4', 'T')\n"
          ]
        }
      ]
    },
    {
      "cell_type": "code",
      "source": [
        "from itertools import permutations\n",
        "for i in permutations('ABC'):\n",
        "  print(i)"
      ],
      "metadata": {
        "colab": {
          "base_uri": "https://localhost:8080/"
        },
        "id": "yJyfNHV7kiX0",
        "outputId": "b5bc3e7d-be9c-418e-e437-56b61461cd55"
      },
      "execution_count": 15,
      "outputs": [
        {
          "output_type": "stream",
          "name": "stdout",
          "text": [
            "('A', 'B', 'C')\n",
            "('A', 'C', 'B')\n",
            "('B', 'A', 'C')\n",
            "('B', 'C', 'A')\n",
            "('C', 'A', 'B')\n",
            "('C', 'B', 'A')\n"
          ]
        }
      ]
    },
    {
      "cell_type": "code",
      "source": [
        "from itertools import permutations\n",
        "for i in permutations('ABC', 2):\n",
        "  print(i)"
      ],
      "metadata": {
        "colab": {
          "base_uri": "https://localhost:8080/"
        },
        "id": "3lyiZBAxkmzs",
        "outputId": "621dd6c3-950a-419c-c023-8844c7ac7562"
      },
      "execution_count": 16,
      "outputs": [
        {
          "output_type": "stream",
          "name": "stdout",
          "text": [
            "('A', 'B')\n",
            "('A', 'C')\n",
            "('B', 'A')\n",
            "('B', 'C')\n",
            "('C', 'A')\n",
            "('C', 'B')\n"
          ]
        }
      ]
    },
    {
      "cell_type": "code",
      "source": [
        "for i in itertools.combinations ( 'ABCDE' , 3):\n",
        "  print(i)\n"
      ],
      "metadata": {
        "colab": {
          "base_uri": "https://localhost:8080/"
        },
        "id": "3Fr3bUgQksqE",
        "outputId": "480384ef-89d9-4779-c7ab-aa2248289c95"
      },
      "execution_count": 17,
      "outputs": [
        {
          "output_type": "stream",
          "name": "stdout",
          "text": [
            "('A', 'B', 'C')\n",
            "('A', 'B', 'D')\n",
            "('A', 'B', 'E')\n",
            "('A', 'C', 'D')\n",
            "('A', 'C', 'E')\n",
            "('A', 'D', 'E')\n",
            "('B', 'C', 'D')\n",
            "('B', 'C', 'E')\n",
            "('B', 'D', 'E')\n",
            "('C', 'D', 'E')\n"
          ]
        }
      ]
    },
    {
      "cell_type": "code",
      "source": [
        "import itertools \n",
        "nhaccu = 'Đàn Trống Sáo Bo'.split()\n",
        "chonmua2mon = list(itertools.combinations(nhaccu, 2)) \n",
        "chonmua2mon "
      ],
      "metadata": {
        "colab": {
          "base_uri": "https://localhost:8080/"
        },
        "id": "s0aQSYcXlSol",
        "outputId": "6555c86e-14f9-4e23-e66f-1bad8c3ffcf7"
      },
      "execution_count": 18,
      "outputs": [
        {
          "output_type": "execute_result",
          "data": {
            "text/plain": [
              "[('Đàn', 'Trống'),\n",
              " ('Đàn', 'Sáo'),\n",
              " ('Đàn', 'Bo'),\n",
              " ('Trống', 'Sáo'),\n",
              " ('Trống', 'Bo'),\n",
              " ('Sáo', 'Bo')]"
            ]
          },
          "metadata": {},
          "execution_count": 18
        }
      ]
    },
    {
      "cell_type": "code",
      "source": [
        "for i in itertools.combinations_with_replacement('ABCDE', 3):\n",
        " print (i)"
      ],
      "metadata": {
        "colab": {
          "base_uri": "https://localhost:8080/"
        },
        "id": "3xTX5ZDGlcPk",
        "outputId": "019941ee-d337-44f4-f6d3-4f28966b3547"
      },
      "execution_count": 19,
      "outputs": [
        {
          "output_type": "stream",
          "name": "stdout",
          "text": [
            "('A', 'A', 'A')\n",
            "('A', 'A', 'B')\n",
            "('A', 'A', 'C')\n",
            "('A', 'A', 'D')\n",
            "('A', 'A', 'E')\n",
            "('A', 'B', 'B')\n",
            "('A', 'B', 'C')\n",
            "('A', 'B', 'D')\n",
            "('A', 'B', 'E')\n",
            "('A', 'C', 'C')\n",
            "('A', 'C', 'D')\n",
            "('A', 'C', 'E')\n",
            "('A', 'D', 'D')\n",
            "('A', 'D', 'E')\n",
            "('A', 'E', 'E')\n",
            "('B', 'B', 'B')\n",
            "('B', 'B', 'C')\n",
            "('B', 'B', 'D')\n",
            "('B', 'B', 'E')\n",
            "('B', 'C', 'C')\n",
            "('B', 'C', 'D')\n",
            "('B', 'C', 'E')\n",
            "('B', 'D', 'D')\n",
            "('B', 'D', 'E')\n",
            "('B', 'E', 'E')\n",
            "('C', 'C', 'C')\n",
            "('C', 'C', 'D')\n",
            "('C', 'C', 'E')\n",
            "('C', 'D', 'D')\n",
            "('C', 'D', 'E')\n",
            "('C', 'E', 'E')\n",
            "('D', 'D', 'D')\n",
            "('D', 'D', 'E')\n",
            "('D', 'E', 'E')\n",
            "('E', 'E', 'E')\n"
          ]
        }
      ]
    },
    {
      "cell_type": "code",
      "source": [
        "for i in itertools.repeat('Red', 3):\n",
        " print (i)"
      ],
      "metadata": {
        "colab": {
          "base_uri": "https://localhost:8080/"
        },
        "id": "V_dlehV4lgqk",
        "outputId": "be450817-e625-4beb-9cd8-10c8b127a72b"
      },
      "execution_count": 20,
      "outputs": [
        {
          "output_type": "stream",
          "name": "stdout",
          "text": [
            "Red\n",
            "Red\n",
            "Red\n"
          ]
        }
      ]
    },
    {
      "cell_type": "markdown",
      "source": [
        "3. Ôn luyện cơ bản về Python: Hàm ngẫu nhiên toán học và lặp trong Python"
      ],
      "metadata": {
        "id": "42SnsZiollKO"
      }
    },
    {
      "cell_type": "markdown",
      "source": [
        "3.1. Cơ bản về hàm ngẫu nhiên trong Python"
      ],
      "metadata": {
        "id": "AUVeSHexlnYU"
      }
    },
    {
      "cell_type": "code",
      "source": [
        " import random\n",
        "random.choice(['Táo', 'Lê', 'Ổi', 'Chuối']) "
      ],
      "metadata": {
        "colab": {
          "base_uri": "https://localhost:8080/",
          "height": 35
        },
        "id": "Fn3k7GMjlo6L",
        "outputId": "292531b1-1dea-4a7d-8d95-c92166bb3ad8"
      },
      "execution_count": 21,
      "outputs": [
        {
          "output_type": "execute_result",
          "data": {
            "text/plain": [
              "'Lê'"
            ],
            "application/vnd.google.colaboratory.intrinsic+json": {
              "type": "string"
            }
          },
          "metadata": {},
          "execution_count": 21
        }
      ]
    },
    {
      "cell_type": "code",
      "source": [
        " random.random() "
      ],
      "metadata": {
        "colab": {
          "base_uri": "https://localhost:8080/"
        },
        "id": "lZTUjd8hls2T",
        "outputId": "bc35fbee-3c65-4eba-84b2-cde296fb5932"
      },
      "execution_count": 22,
      "outputs": [
        {
          "output_type": "execute_result",
          "data": {
            "text/plain": [
              "0.44066682266137336"
            ]
          },
          "metadata": {},
          "execution_count": 22
        }
      ]
    },
    {
      "cell_type": "code",
      "source": [
        "random. uniform(4.9, 10.0)"
      ],
      "metadata": {
        "colab": {
          "base_uri": "https://localhost:8080/"
        },
        "id": "JI95J4FFlvUz",
        "outputId": "9850e76a-0631-4c93-e957-e8b3c13350cd"
      },
      "execution_count": 23,
      "outputs": [
        {
          "output_type": "execute_result",
          "data": {
            "text/plain": [
              "5.6237193361518525"
            ]
          },
          "metadata": {},
          "execution_count": 23
        }
      ]
    },
    {
      "cell_type": "code",
      "source": [
        "random.randrange(6)"
      ],
      "metadata": {
        "colab": {
          "base_uri": "https://localhost:8080/"
        },
        "id": "5A0WBJC3lxl8",
        "outputId": "362a695e-6f7c-451d-9873-38bab0533017"
      },
      "execution_count": 24,
      "outputs": [
        {
          "output_type": "execute_result",
          "data": {
            "text/plain": [
              "1"
            ]
          },
          "metadata": {},
          "execution_count": 24
        }
      ]
    },
    {
      "cell_type": "code",
      "source": [
        "random.randrange(50, 500) "
      ],
      "metadata": {
        "colab": {
          "base_uri": "https://localhost:8080/"
        },
        "id": "WVQGwUaFlz_j",
        "outputId": "061fcc8d-917b-4da5-dfab-d8203a759481"
      },
      "execution_count": 25,
      "outputs": [
        {
          "output_type": "execute_result",
          "data": {
            "text/plain": [
              "220"
            ]
          },
          "metadata": {},
          "execution_count": 25
        }
      ]
    },
    {
      "cell_type": "code",
      "source": [
        "random.randrange(20, 100, 2)"
      ],
      "metadata": {
        "colab": {
          "base_uri": "https://localhost:8080/"
        },
        "id": "1-Uq-oxql2Bz",
        "outputId": "03e1515a-6505-43e4-b1bd-a6af91ab4465"
      },
      "execution_count": 26,
      "outputs": [
        {
          "output_type": "execute_result",
          "data": {
            "text/plain": [
              "46"
            ]
          },
          "metadata": {},
          "execution_count": 26
        }
      ]
    },
    {
      "cell_type": "code",
      "source": [
        "random.sample(range(100), 10)"
      ],
      "metadata": {
        "colab": {
          "base_uri": "https://localhost:8080/"
        },
        "id": "OXGRNRk3l4xk",
        "outputId": "e054917c-3fdb-48c4-abb3-1325da2a7bb8"
      },
      "execution_count": 27,
      "outputs": [
        {
          "output_type": "execute_result",
          "data": {
            "text/plain": [
              "[83, 27, 56, 46, 91, 40, 71, 59, 5, 12]"
            ]
          },
          "metadata": {},
          "execution_count": 27
        }
      ]
    },
    {
      "cell_type": "code",
      "source": [
        "random.sample(range(10, 100), 15) "
      ],
      "metadata": {
        "colab": {
          "base_uri": "https://localhost:8080/"
        },
        "id": "4Wh02i-Hl6qk",
        "outputId": "a4a973ad-4d95-47a4-8ba6-ed0aea0f5d12"
      },
      "execution_count": 28,
      "outputs": [
        {
          "output_type": "execute_result",
          "data": {
            "text/plain": [
              "[14, 59, 54, 28, 66, 69, 96, 11, 52, 88, 32, 64, 48, 13, 86]"
            ]
          },
          "metadata": {},
          "execution_count": 28
        }
      ]
    },
    {
      "cell_type": "code",
      "source": [
        "chars = ['a', 'b', 'c', 'd', 'e', 'f', 'g', 'h', 'i', 'j'] \n",
        "rand5_char = random.sample(chars, 5) \n",
        "print (rand5_char) "
      ],
      "metadata": {
        "colab": {
          "base_uri": "https://localhost:8080/"
        },
        "id": "SbpGtEq4l99b",
        "outputId": "74961bb8-d506-400d-de5e-68cd48d9dff8"
      },
      "execution_count": 32,
      "outputs": [
        {
          "output_type": "stream",
          "name": "stdout",
          "text": [
            "['c', 'g', 'f', 'i', 'e']\n"
          ]
        }
      ]
    },
    {
      "cell_type": "markdown",
      "source": [
        "3.2. Ứng dụng minh họa: Vẽ ngẫu nhiên Eclipse"
      ],
      "metadata": {
        "id": "sjL0ji4Omh-q"
      }
    },
    {
      "cell_type": "code",
      "source": [
        "import matplotlib.pyplot as plt\n",
        "import numpy.random as rnd\n",
        "from matplotlib.patches import Ellipse\n",
        "\n",
        "NUM = 250 # Vẽ 250 eclipse ngẫu nhiên vị trí, góc:\n",
        "\n",
        "ells = [Ellipse (xy=rnd.rand(2)*10, width = rnd.rand(), height = rnd.rand(), angle = rnd.rand()*360)\n",
        "  for i in range (NUM) ]\n",
        "\n",
        "fig = plt.figure(0)\n",
        "ax = fig.add_subplot(111, aspect = 'equal')\n",
        "for e in ells:\n",
        "  ax.add_artist(e)\n",
        "  e.set_clip_box(ax.bbox)\n",
        "  e.set_alpha(rnd.rand())\n",
        "  e.set_facecolor(rnd.rand(3))\n",
        "\n",
        "ax.set_xlim(0, 10)\n",
        "ax.set_ylim(0, 10)\n",
        "\n",
        "plt.show"
      ],
      "metadata": {
        "colab": {
          "base_uri": "https://localhost:8080/",
          "height": 286
        },
        "id": "uFAWKGg1miTy",
        "outputId": "329a2064-b721-4af8-aba8-a284b815edcd"
      },
      "execution_count": 34,
      "outputs": [
        {
          "output_type": "execute_result",
          "data": {
            "text/plain": [
              "<function matplotlib.pyplot.show>"
            ]
          },
          "metadata": {},
          "execution_count": 34
        },
        {
          "output_type": "display_data",
          "data": {
            "text/plain": [
              "<Figure size 432x288 with 1 Axes>"
            ],
            "image/png": "[encoded data removed]"
          },
          "metadata": {
            "needs_background": "light"
          }
        }
      ]
    },
    {
      "cell_type": "markdown",
      "source": [
        "3.3. Bài toán ứng dụng 1: Giới thiệu Roullete Wheel – “Chiếc nón kì diệu”"
      ],
      "metadata": {
        "id": "9j1eSktUnPba"
      }
    },
    {
      "cell_type": "code",
      "source": [
        "from __future__ import division\n",
        "import numpy as np\n",
        "import random,pdb\n",
        "import operator\n",
        "\n",
        "def roulette_selection(weights):\n",
        "  '''performs weighted selection or roulette wheel selection on a list And returns the index selected from the list'''\n",
        "\n",
        "  # sort the weights in ascending order\n",
        "  sorted_indexed_weights  = sorted(enumerate(weights), key=operator.itemgetter(1)); indices, sorted_weights = zip(*sorted_indexed_weights);\n",
        "  # calculate the cumulative propability\n",
        "  tot_sum = sum(sorted_weights)\n",
        "  prob = [x/tot_sum for x in sorted_weights]\n",
        "  cum_prob=np.cumsum(prob)\n",
        "  # select random a number in the range [0,1]\n",
        "  random_num=random.random()\n",
        "\n",
        "  for index_value, cum_prob_value in zip(indices,cum_prob):\n",
        "    if random_num < cum_prob_value:\n",
        "      return index_value"
      ],
      "metadata": {
        "id": "wEKEkJQCnQHb"
      },
      "execution_count": 54,
      "outputs": []
    },
    {
      "cell_type": "code",
      "source": [
        "xanhdo =[87, 3, 20] \n"
      ],
      "metadata": {
        "id": "Ieb6zIwbn-cx"
      },
      "execution_count": 55,
      "outputs": []
    },
    {
      "cell_type": "code",
      "source": [
        "for i in range(20):\n",
        " print(roulette_selection(xanhdo)) "
      ],
      "metadata": {
        "colab": {
          "base_uri": "https://localhost:8080/"
        },
        "id": "0fwfCIUzoCNZ",
        "outputId": "31440546-3ada-4f5f-9caf-cf40161aaaf3"
      },
      "execution_count": 56,
      "outputs": [
        {
          "output_type": "stream",
          "name": "stdout",
          "text": [
            "0\n",
            "0\n",
            "0\n",
            "0\n",
            "0\n",
            "2\n",
            "0\n",
            "0\n",
            "0\n",
            "2\n",
            "0\n",
            "0\n",
            "0\n",
            "0\n",
            "0\n",
            "0\n",
            "0\n",
            "0\n",
            "2\n",
            "0\n"
          ]
        }
      ]
    },
    {
      "cell_type": "code",
      "source": [
        "xanhdo =[27, 3, 30]"
      ],
      "metadata": {
        "id": "KU5hKQQWojf6"
      },
      "execution_count": 58,
      "outputs": []
    },
    {
      "cell_type": "code",
      "source": [
        "for i in range(20):\n",
        " print (roulette_selection(xanhdo))"
      ],
      "metadata": {
        "colab": {
          "base_uri": "https://localhost:8080/"
        },
        "id": "5chOn3Ctoktx",
        "outputId": "a36430b9-1f90-4854-89f4-ec734de25f72"
      },
      "execution_count": 57,
      "outputs": [
        {
          "output_type": "stream",
          "name": "stdout",
          "text": [
            "0\n",
            "0\n",
            "0\n",
            "0\n",
            "2\n",
            "0\n",
            "0\n",
            "0\n",
            "0\n",
            "0\n",
            "0\n",
            "0\n",
            "0\n",
            "0\n",
            "0\n",
            "0\n",
            "0\n",
            "0\n",
            "0\n",
            "0\n"
          ]
        }
      ]
    },
    {
      "cell_type": "markdown",
      "source": [
        "5. Bài toán ứng dụng 2: Chọn tập các camera quan sát hội chợ"
      ],
      "metadata": {
        "id": "D8EMv-IdovhO"
      }
    },
    {
      "cell_type": "code",
      "source": [
        "def difference(A, B): \n",
        "  phantu_moi = 0\n",
        "  for x in A:\n",
        "    if x not in B:\n",
        "      phantu_moi = phantu_moi + 1\n",
        "  return phantu_moi "
      ],
      "metadata": {
        "id": "rUPFYbEKowV8"
      },
      "execution_count": 47,
      "outputs": []
    },
    {
      "cell_type": "code",
      "source": [
        "def add(A,B): \n",
        "  ketqua = B \n",
        "  for x in A: \n",
        "    if x not in B: \n",
        "      ketqua = ketqua + [x]\n",
        "  return ketqua"
      ],
      "metadata": {
        "id": "SQKl24IGpO2I"
      },
      "execution_count": 48,
      "outputs": []
    },
    {
      "cell_type": "markdown",
      "source": [
        "Khai báo các camera phủ các khu vực: "
      ],
      "metadata": {
        "id": "jMUu_66IrB5n"
      }
    },
    {
      "cell_type": "code",
      "source": [
        "I = [1, 3, 4, 6, 7]\n",
        "II = [4, 7, 8, 12]\n",
        "III = [2, 5, 9, 11, 13]\n",
        "IV = [1, 2, 18, 19, 21]\n",
        "V = [3, 6, 10, 12, 14]\n",
        "VI = [8, 14, 15, 16, 17]\n",
        "VII = [18, 21, 24, 25]\n",
        "VIII = [2, 10, 16, 23]\n",
        "IX = [1, 6, 11]\n",
        "X = [20, 22, 24, 25]\n",
        "XI = [2, 4, 6, 8]\n",
        "XII =[1, 6, 12, 17] \n"
      ],
      "metadata": {
        "id": "Gg63gYvDpZ3Y"
      },
      "execution_count": 52,
      "outputs": []
    },
    {
      "cell_type": "markdown",
      "source": [
        "+ Khai báo tập các hợp camera và tập hợp các khu vực: "
      ],
      "metadata": {
        "id": "tn87sECDrLco"
      }
    },
    {
      "cell_type": "code",
      "source": [
        "cameras = [I, II, III, IV, V, VI, VII, VIII, IX, X, XI, XII] \n",
        "khuvuc = range(1,26)"
      ],
      "metadata": {
        "id": "uy4J8LFxrKUH"
      },
      "execution_count": 59,
      "outputs": []
    },
    {
      "cell_type": "markdown",
      "source": [
        "+ Xử lý chính: "
      ],
      "metadata": {
        "id": "OtgCDM-xrOGQ"
      }
    },
    {
      "cell_type": "code",
      "source": [
        "tapphu = [] # Ban đầu tập phủ là tập rỗng.\n",
        "while len(tapphu)<len(khuvuc):\n",
        "  max_new_cameras = 0 # số các camera mới nhiều nhất có thể thêm vào tập phủ\n",
        "  for camera in cameras:\n",
        "    mmax_new_cameras = max(difference(camera, tapphu), max_new_cameras)\n",
        "  luachon = 0 # duyệt lần nữa để tìm vị trí camera có số khu vực phủ nhiều nhất như trên\n",
        "  while difference(cameras[luachon], tapphu) < max_new_cameras:\n",
        "    luachon = luachon +1# vi tri camera se duoc chon\n",
        "  if (luachon < len(cameras)): # để đảm bảo vị trí cameras là tồn tại\n",
        "    tapphu = add(cameras[luachon], tapphu)\n",
        "    print ('Camera: ', luachon+1, cameras[luachon], tapphu) # kết quả các bước"
      ],
      "metadata": {
        "id": "74sPJFU1rNx-"
      },
      "execution_count": null,
      "outputs": []
    },
    {
      "cell_type": "markdown",
      "source": [
        "In ra kết quả và kiểm lại: "
      ],
      "metadata": {
        "id": "ElvaDfAlryd6"
      }
    },
    {
      "cell_type": "code",
      "source": [
        "tapphu.sort() \n",
        "print (tapphu) "
      ],
      "metadata": {
        "colab": {
          "base_uri": "https://localhost:8080/"
        },
        "id": "xi6LOAOxq5Bw",
        "outputId": "a2fa166d-28e4-4076-dd2f-30fe3b2c638f"
      },
      "execution_count": 63,
      "outputs": [
        {
          "output_type": "stream",
          "name": "stdout",
          "text": [
            "[1, 3, 4, 6, 7]\n"
          ]
        }
      ]
    }
  ]
}
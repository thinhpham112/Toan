{
  "nbformat": 4,
  "nbformat_minor": 0,
  "metadata": {
    "colab": {
      "name": "chuong5.ipynb",
      "provenance": [],
      "authorship_tag": "ABX9TyPZgwD6I/IggfW91P0JU0dI",
      "include_colab_link": true
    },
    "kernelspec": {
      "name": "python3",
      "display_name": "Python 3"
    },
    "language_info": {
      "name": "python"
    }
  },
  "cells": [
    {
      "cell_type": "markdown",
      "metadata": {
        "id": "view-in-github",
        "colab_type": "text"
      },
      "source": [
        "<a href=\"https://colab.research.google.com/github/thinhpham112/Toan/blob/main/chuong5.ipynb\" target=\"_parent\"><img src=\"https://colab.research.google.com/assets/colab-badge.svg\" alt=\"Open In Colab\"/></a>"
      ]
    },
    {
      "cell_type": "markdown",
      "source": [
        "1. Dẫn nhập: Bài toán nói dối – nói thật: Knights và Knaves"
      ],
      "metadata": {
        "id": "lowgr5R4gliG"
      }
    },
    {
      "cell_type": "code",
      "source": [
        "James = [True, True, True, True, False, False, False, True] \n",
        "Jonathan =[True, True, True, True, False, False, False, True]\n",
        "ngay_trong_tuan = [\"Thu 2\", \"Thu 3\", \"Thu 4\", \"Thu 5\", \"Thu 6\", \"Thu 7\", \"Chu nhat\",\"Thu 2\"]"
      ],
      "metadata": {
        "id": "-uvgK_-_goPM"
      },
      "execution_count": 1,
      "outputs": []
    },
    {
      "cell_type": "markdown",
      "source": [
        "Code chưa rút gọn: "
      ],
      "metadata": {
        "id": "Bbq3NYYdhzRL"
      }
    },
    {
      "cell_type": "code",
      "source": [
        "for i in range(0, 6):\n",
        "  if ((James[i] == True and James[i+1] == False)\n",
        "    or ((James[i] == False and James[i+1] == True))):\n",
        "      if ((Jonathan[i] == True and Jonathan[i+1] == False)\n",
        "        or ((Jonathan[i] == False and Jonathan[i+1] == True))):\n",
        "          print(ngay_trong_tuan[i])"
      ],
      "metadata": {
        "colab": {
          "base_uri": "https://localhost:8080/"
        },
        "id": "kolFpEbvh-PR",
        "outputId": "8f79f42b-301c-4a08-a078-378195f064d2"
      },
      "execution_count": 7,
      "outputs": [
        {
          "output_type": "stream",
          "name": "stdout",
          "text": [
            "Thu 5\n"
          ]
        }
      ]
    },
    {
      "cell_type": "markdown",
      "source": [
        "Code rút gọn:"
      ],
      "metadata": {
        "id": "8WVYD2jxiJdR"
      }
    },
    {
      "cell_type": "code",
      "source": [
        "for i in range(0,6):\n",
        " if ((James[i] and not James[i+1]) and (Jonathan[i] and not Jonathan[i+1])):\n",
        "   print(ngay_trong_tuan[i])"
      ],
      "metadata": {
        "colab": {
          "base_uri": "https://localhost:8080/"
        },
        "id": "z5zZz9YDiKVa",
        "outputId": "30137423-dd16-404e-9217-32bf603f6804"
      },
      "execution_count": 10,
      "outputs": [
        {
          "output_type": "stream",
          "name": "stdout",
          "text": [
            "Thu 5\n"
          ]
        }
      ]
    },
    {
      "cell_type": "markdown",
      "source": [
        "2. Tóm lược: Quan hệ trên các tập hợp và biểu diễn quan hệ"
      ],
      "metadata": {
        "id": "vOhd9JmaiXMx"
      }
    },
    {
      "cell_type": "code",
      "source": [
        "import random\n",
        "S = random.sample(range(1, 100), 10) # lấy mẫu 10 số tự nhiên trong [1, 99] \n",
        "print (S) "
      ],
      "metadata": {
        "colab": {
          "base_uri": "https://localhost:8080/"
        },
        "id": "s9sbDmKEiXtx",
        "outputId": "07d5f3d0-f7b6-4696-99eb-9bcb775d6ee0"
      },
      "execution_count": 11,
      "outputs": [
        {
          "output_type": "stream",
          "name": "stdout",
          "text": [
            "[60, 73, 13, 81, 33, 27, 35, 1, 3, 52]\n"
          ]
        }
      ]
    },
    {
      "cell_type": "code",
      "source": [
        "tS = []\n",
        "for i in range(len(S)): \n",
        "  tS.append(0)\n",
        "  for j in range(i, len(S)):\n",
        "    if S[i] < S[j]:\n",
        "      tS[i] = tS[i] + 1\n",
        "print (tS) "
      ],
      "metadata": {
        "colab": {
          "base_uri": "https://localhost:8080/"
        },
        "id": "ZfRgeEzDijex",
        "outputId": "12b3a478-6c24-40eb-df79-1a58f13ede41"
      },
      "execution_count": 12,
      "outputs": [
        {
          "output_type": "stream",
          "name": "stdout",
          "text": [
            "[2, 1, 5, 0, 2, 2, 1, 2, 1, 0]\n"
          ]
        }
      ]
    },
    {
      "cell_type": "markdown",
      "source": [
        "đây là bài pp1"
      ],
      "metadata": {
        "id": "L9TQR2HKvQQf"
      }
    },
    {
      "cell_type": "markdown",
      "source": [
        "[văn bản liên kết](https://drive.google.com/file/d/1nJMyb63gSxrLkRkfeWr55vT5jDUvTtCH/view?usp=sharing)"
      ],
      "metadata": {
        "id": "cnXD7wTLvIoa"
      }
    },
    {
      "cell_type": "markdown",
      "source": [
        "5.3. Minh họa sử dụng gói pyswip "
      ],
      "metadata": {
        "id": "w5dh-Biqwvpv"
      }
    },
    {
      "cell_type": "code",
      "source": [
        "from pyswip import Prolog\n",
        "tgtph = Prolog() # khai báo quan hệ giữa tác giả tác phẩm là một đối tượng Prolog\n",
        "tgtph.assertz('tacgiatacpham(nguyendu,truyenkieu)') # nhập dữ liệu nguyendu, truyenkieu\n",
        "tgtph.assertz('tacgiatacpham(nguyendu,thanhhienthitap)')\n",
        "tgtph.assertz('tacgiatacpham(nguyendu,namtrungtapngam)')\n",
        "tgtph.assertz('tacgiatacpham(nguyendu,bachanhluctap)')\n",
        "list(tgtph.query('tacgiatacpham(nguyendu, X)')) \n",
        "print(tg[\"X\"], ' viet ra tac pham: ', tg[\"Y\"])"
      ],
      "metadata": {
        "id": "JGgiVYJgwvUI"
      },
      "execution_count": null,
      "outputs": []
    }
  ]
}
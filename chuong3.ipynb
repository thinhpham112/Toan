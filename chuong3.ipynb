{
  "nbformat": 4,
  "nbformat_minor": 0,
  "metadata": {
    "colab": {
      "name": "chuong3.ipynb",
      "provenance": [],
      "authorship_tag": "ABX9TyNRng0tqRZwK5x/waxlDP9j",
      "include_colab_link": true
    },
    "kernelspec": {
      "name": "python3",
      "display_name": "Python 3"
    },
    "language_info": {
      "name": "python"
    }
  },
  "cells": [
    {
      "cell_type": "markdown",
      "metadata": {
        "id": "view-in-github",
        "colab_type": "text"
      },
      "source": [
        "<a href=\"https://colab.research.google.com/github/thinhpham112/Toan/blob/main/chuong3.ipynb\" target=\"_parent\"><img src=\"https://colab.research.google.com/assets/colab-badge.svg\" alt=\"Open In Colab\"/></a>"
      ]
    },
    {
      "cell_type": "markdown",
      "source": [
        "1.2. Thể hiện biểu thức luận lý bằng Python"
      ],
      "metadata": {
        "id": "V0hrA3J4sld6"
      }
    },
    {
      "cell_type": "code",
      "execution_count": 1,
      "metadata": {
        "id": "to3iGlduoDrd",
        "outputId": "3e4591fc-f33c-4ba3-8bc1-fd68178b832d",
        "colab": {
          "base_uri": "https://localhost:8080/"
        }
      },
      "outputs": [
        {
          "output_type": "execute_result",
          "data": {
            "text/plain": [
              "True"
            ]
          },
          "metadata": {},
          "execution_count": 1
        }
      ],
      "source": [
        "def implies(a, b):\n",
        "    if a:\n",
        "            return b \n",
        "    else:\n",
        "            return True\n",
        "implies(10, 11)\n",
        "implies(1, 11) \n",
        "implies(0, 11)"
      ]
    },
    {
      "cell_type": "code",
      "source": [
        "x, y = 2, 3 \n",
        "implies(x>=0 and y >=0, x*y >=0)"
      ],
      "metadata": {
        "id": "7G3RcOdMstth",
        "outputId": "e536be94-ee84-4c95-cddb-8b8e0cd64a9b",
        "colab": {
          "base_uri": "https://localhost:8080/"
        }
      },
      "execution_count": 8,
      "outputs": [
        {
          "output_type": "execute_result",
          "data": {
            "text/plain": [
              "True"
            ]
          },
          "metadata": {},
          "execution_count": 8
        }
      ]
    },
    {
      "cell_type": "code",
      "source": [
        "x, y = -2, 3\n",
        "implies(x>=0 and y >=0, x*y >=0)"
      ],
      "metadata": {
        "id": "C4D5GbD7sz8a",
        "outputId": "24a25bc8-1e00-4c82-ce71-b1295ed9d675",
        "colab": {
          "base_uri": "https://localhost:8080/"
        }
      },
      "execution_count": 9,
      "outputs": [
        {
          "output_type": "execute_result",
          "data": {
            "text/plain": [
              "True"
            ]
          },
          "metadata": {},
          "execution_count": 9
        }
      ]
    },
    {
      "cell_type": "markdown",
      "source": [
        "2. Lý thuyết tập hợp với kiểu dữ liệu list trong Python"
      ],
      "metadata": {
        "id": "tXzeieXmsVVp"
      }
    },
    {
      "cell_type": "code",
      "source": [
        "N = 3\n",
        "ketqua = []\n",
        "for i1 in range(0, N):\n",
        "  for i2 in range(i1, N):\n",
        "    for i3 in range(i2, N):\n",
        "      ketqua = ketqua + [(i1, i2, i3)]"
      ],
      "metadata": {
        "id": "wNODBlCNqrXu"
      },
      "execution_count": 4,
      "outputs": []
    },
    {
      "cell_type": "code",
      "source": [
        " (0, 2, 2) in ketqua"
      ],
      "metadata": {
        "id": "aPbsLSRBsOdy",
        "outputId": "1ddd7433-4739-4f06-d02d-048f0febda93",
        "colab": {
          "base_uri": "https://localhost:8080/"
        }
      },
      "execution_count": 6,
      "outputs": [
        {
          "output_type": "execute_result",
          "data": {
            "text/plain": [
              "True"
            ]
          },
          "metadata": {},
          "execution_count": 6
        }
      ]
    },
    {
      "cell_type": "code",
      "source": [
        " (0, 2, 1) in ketqua"
      ],
      "metadata": {
        "id": "J22l8rNjsH7j",
        "outputId": "8721cb3b-7af7-497a-9682-3996f3c09033",
        "colab": {
          "base_uri": "https://localhost:8080/"
        }
      },
      "execution_count": 10,
      "outputs": [
        {
          "output_type": "execute_result",
          "data": {
            "text/plain": [
              "False"
            ]
          },
          "metadata": {},
          "execution_count": 10
        }
      ]
    },
    {
      "cell_type": "code",
      "source": [
        "A = [0, 1, 2, 3, 4, 5, 6, 7]\n",
        "B = [2, 4, 6, 8, 10] \n",
        "def intersection(A, B):\n",
        "  ketqua = []\n",
        "  for x in A:\n",
        "    if x in B:\n",
        "      ketqua = ketqua + [x]\n",
        "  return ketqua\n",
        "intersection(A, B) \n"
      ],
      "metadata": {
        "id": "PxzQFBVstB2D",
        "outputId": "b500bdfb-4334-4a94-e484-46d8e7b7f4a6",
        "colab": {
          "base_uri": "https://localhost:8080/"
        }
      },
      "execution_count": 14,
      "outputs": [
        {
          "output_type": "execute_result",
          "data": {
            "text/plain": [
              "[2, 4, 6]"
            ]
          },
          "metadata": {},
          "execution_count": 14
        }
      ]
    },
    {
      "cell_type": "code",
      "source": [
        "def difference(A, B):\n",
        "  ketqua = [] \n",
        "  for x in A:\n",
        "    if x not in B:\n",
        "      ketqua = ketqua + [x]\n",
        "  return ketqua\n",
        "  A = [0, 1, 2, 3, 4, 5, 6, 7]\n",
        "  B = [2, 4, 6, 8, 10]\n",
        "difference(A, B) "
      ],
      "metadata": {
        "id": "6PnGtzXvuFtC",
        "outputId": "ee9de1a2-d6c7-4022-ac30-2ce31a7adcc6",
        "colab": {
          "base_uri": "https://localhost:8080/"
        }
      },
      "execution_count": 16,
      "outputs": [
        {
          "output_type": "execute_result",
          "data": {
            "text/plain": [
              "[0, 1, 3, 5, 7]"
            ]
          },
          "metadata": {},
          "execution_count": 16
        }
      ]
    },
    {
      "cell_type": "code",
      "source": [
        "def isSubSet(A, B):\n",
        "  ketqua = True \n",
        "  for x in A:\n",
        "    if x not in B:\n",
        "      ketqua = False\n",
        "  return ketqua\n",
        "  A = [0, 1, 2, 3, 4, 5, 6, 7]\n",
        "  B = [2, 4, 6, 8, 10] \n",
        "isSubSet(A, B)\n"
      ],
      "metadata": {
        "id": "MW5ksV3buehQ",
        "outputId": "2bad51b5-7d1f-4996-af1f-8d2228aed741",
        "colab": {
          "base_uri": "https://localhost:8080/"
        }
      },
      "execution_count": 17,
      "outputs": [
        {
          "output_type": "execute_result",
          "data": {
            "text/plain": [
              "False"
            ]
          },
          "metadata": {},
          "execution_count": 17
        }
      ]
    },
    {
      "cell_type": "code",
      "source": [
        "def equalSets(A, B):\n",
        "  return isSubSet(A, B) and isSubSet(B, A)\n",
        "equalSets([1, 3, 5, 7], [7, 3, 1, 5])"
      ],
      "metadata": {
        "id": "2BrH53L1vBo4",
        "outputId": "aa8d2876-0b48-4e3f-810c-4a982a6eb487",
        "colab": {
          "base_uri": "https://localhost:8080/"
        }
      },
      "execution_count": 18,
      "outputs": [
        {
          "output_type": "execute_result",
          "data": {
            "text/plain": [
              "True"
            ]
          },
          "metadata": {},
          "execution_count": 18
        }
      ]
    },
    {
      "cell_type": "markdown",
      "source": [
        "3.1. Xây dựng dữ liệu đầu vào"
      ],
      "metadata": {
        "id": "5E5sURsqvPAi"
      }
    },
    {
      "cell_type": "code",
      "source": [
        "sodiem_DL = 9\n",
        "diadiem = ['Cần Giờ', 'Củ Chi', 'Chợ Bến Thành', 'Sở Thú', 'BV thẫm mỹ răng', 'Chí Hòa',\n",
        "'Dinh Độc lập', 'Bào tàng', 'Trường Văn Lang']\n",
        "thoigian = [1.0, 1.0, 0.6, 0.4, 1.5, 0.3, 0.3, 0.3, 0.6]\n",
        "songay_dulich = 1.5"
      ],
      "metadata": {
        "id": "m9ikc6bHvRZI"
      },
      "execution_count": 19,
      "outputs": []
    },
    {
      "cell_type": "markdown",
      "source": [
        "3.2. Phương pháp “vét cạn” tìm tất cả các giải pháp"
      ],
      "metadata": {
        "id": "wweNAc_Mv69v"
      }
    },
    {
      "cell_type": "code",
      "source": [
        "def lietke_chuoinhiphan(n):\n",
        "  danh_sach = []\n",
        "  #bat_dau = 1\n",
        "  for i in range(0, 2**n): #chay den 2^n-1\n",
        "    gia_tri = i\n",
        "    chuoi_np = bin(gia_tri).replace('0b', '')\n",
        "    while (len(chuoi_np) < n):\n",
        "      chuoi_np = '0' + chuoi_np\n",
        "      danh_sach.append(chuoi_np) #them chuoi vao ket qua\n",
        "      #print (chuoi_np)\n",
        "  return danh_sach"
      ],
      "metadata": {
        "id": "wg9Ow4bWv9z2"
      },
      "execution_count": 30,
      "outputs": []
    },
    {
      "cell_type": "code",
      "source": [
        "bin(10)"
      ],
      "metadata": {
        "id": "QdxoTgUrxMRe",
        "outputId": "bb2ebed3-bc87-4097-d6ee-449336ca5422",
        "colab": {
          "base_uri": "https://localhost:8080/",
          "height": 35
        }
      },
      "execution_count": 22,
      "outputs": [
        {
          "output_type": "execute_result",
          "data": {
            "text/plain": [
              "'0b1010'"
            ],
            "application/vnd.google.colaboratory.intrinsic+json": {
              "type": "string"
            }
          },
          "metadata": {},
          "execution_count": 22
        }
      ]
    },
    {
      "cell_type": "code",
      "source": [
        "bin(10).replace('0b', '')"
      ],
      "metadata": {
        "id": "CuR6CUJyxQQ2",
        "outputId": "9622aad3-87c0-4414-f398-014722e2a18a",
        "colab": {
          "base_uri": "https://localhost:8080/",
          "height": 35
        }
      },
      "execution_count": 23,
      "outputs": [
        {
          "output_type": "execute_result",
          "data": {
            "text/plain": [
              "'1010'"
            ],
            "application/vnd.google.colaboratory.intrinsic+json": {
              "type": "string"
            }
          },
          "metadata": {},
          "execution_count": 23
        }
      ]
    },
    {
      "cell_type": "code",
      "source": [
        "n = 9\n",
        "chuoi_np = bin(10).replace('0b','')\n",
        "while (len(chuoi_np) < n):\n",
        "   chuoi_np = '0' + chuoi_np\n",
        "chuoi_np "
      ],
      "metadata": {
        "id": "84lh7eFexT0l",
        "outputId": "46ca5faa-bc92-4224-fe47-c337f7b04e10",
        "colab": {
          "base_uri": "https://localhost:8080/",
          "height": 35
        }
      },
      "execution_count": 24,
      "outputs": [
        {
          "output_type": "execute_result",
          "data": {
            "text/plain": [
              "'000001010'"
            ],
            "application/vnd.google.colaboratory.intrinsic+json": {
              "type": "string"
            }
          },
          "metadata": {},
          "execution_count": 24
        }
      ]
    },
    {
      "cell_type": "code",
      "source": [
        "lietke_chuoinhiphan(3)"
      ],
      "metadata": {
        "id": "hvRhIJIAysuz",
        "outputId": "058a150d-192a-4eae-a522-2a91f3173a76",
        "colab": {
          "base_uri": "https://localhost:8080/"
        }
      },
      "execution_count": 31,
      "outputs": [
        {
          "output_type": "execute_result",
          "data": {
            "text/plain": [
              "['00', '000', '01', '001', '010', '011']"
            ]
          },
          "metadata": {},
          "execution_count": 31
        }
      ]
    },
    {
      "cell_type": "code",
      "source": [
        "lietke_chuoinhiphan(4)"
      ],
      "metadata": {
        "id": "jibZoUKnyxkU",
        "outputId": "8e63cc77-bd56-48a6-8fa3-4acab2eb8ea6",
        "colab": {
          "base_uri": "https://localhost:8080/"
        }
      },
      "execution_count": 32,
      "outputs": [
        {
          "output_type": "execute_result",
          "data": {
            "text/plain": [
              "['00',\n",
              " '000',\n",
              " '0000',\n",
              " '01',\n",
              " '001',\n",
              " '0001',\n",
              " '010',\n",
              " '0010',\n",
              " '011',\n",
              " '0011',\n",
              " '0100',\n",
              " '0101',\n",
              " '0110',\n",
              " '0111']"
            ]
          },
          "metadata": {},
          "execution_count": 32
        }
      ]
    },
    {
      "cell_type": "code",
      "source": [
        "def kiemtra_chuoi(chuoi_dang_chon, danhsach, gioihan):\n",
        "  tong_thoigian = 0\n",
        "  for j in range(0, len(chuoi_dang_chon)):\n",
        "    if chuoi_dang_chon(j) == '1':\n",
        "      tong_thoigian = tong_thoigian + thoigian[j]\n",
        "  ketqua = True #nghia la OK\n",
        "  if tong_thoigian > gioihan:\n",
        "    ketqua = False #khong duoc\n",
        "  return ketqua, tong_thoigian"
      ],
      "metadata": {
        "id": "v0SydOSKx9-2"
      },
      "execution_count": 28,
      "outputs": []
    }
  ]
}